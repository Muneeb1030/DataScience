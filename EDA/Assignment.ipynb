{
 "cells": [
  {
   "cell_type": "markdown",
   "metadata": {},
   "source": [
    "## The EDA of Physionet Data set regarding \"A Large Scale 12 Lead Electrocardiogram Database for Arrhythmia Study 1.0.0\""
   ]
  },
  {
   "cell_type": "code",
   "execution_count": null,
   "metadata": {},
   "outputs": [],
   "source": [
    "import pandas as pd\n",
    "import numpy as np\n",
    "import matplotlib.pyplot as plt\n",
    "import wfdb\n",
    "import os\n",
    "from scipy.signal import butter, filtfilt\n",
    "import biosppy.signals.ecg as ecg"
   ]
  },
  {
   "cell_type": "markdown",
   "metadata": {},
   "source": [
    "### Getting the records in the notebook"
   ]
  },
  {
   "cell_type": "code",
   "execution_count": 20,
   "metadata": {},
   "outputs": [],
   "source": [
    "dataset_path = r'..\\a-large-scale-12-lead-electrocardiogram-database-for-arrhythmia-study-1.0.0\\WFDBRecords\\\\'\n",
    "count = 0\n",
    "# Adjusted cutoff frequencies for normalized signal values\n",
    "lowcut = 0.66  # Lower cutoff frequency in Hz\n",
    "highcut = 46.0   # Higher cutoff frequency in Hz"
   ]
  },
  {
   "cell_type": "code",
   "execution_count": null,
   "metadata": {},
   "outputs": [],
   "source": [
    "def visualize_data(record,name):\n",
    "\n",
    "    print(record.shape)\n",
    "    # print(record.record_name)\n",
    "    # print(record.__dict__)\n",
    "    \n",
    "    fig,axes = plt.subplots(12,1,figsize=(12,20))\n",
    "    \n",
    "    \n",
    "    leads = [\"I\", \"II\", \"III\", \"avR\", \"avF\", \"aVL\", \"V1\", \"V2\", \"V3\", \"V4\", \"V5\", \"V6\"]\n",
    "    \n",
    "    for i, lead in enumerate(leads):\n",
    "        axes[i].plot(record[:, i])\n",
    "        axes[i].set_ylabel(lead)\n",
    "        \n",
    "    plt.legend(leads)\n",
    "    plt.savefig(f'{name}{count}.png')\n",
    "    plt.show()\n",
    "    "
   ]
  },
  {
   "cell_type": "code",
   "execution_count": 18,
   "metadata": {},
   "outputs": [],
   "source": [
    "\n",
    "\n",
    "def butter_bandpass(lowcut, highcut, fs, order=5):\n",
    "    nyquist_freq = 0.5 * fs\n",
    "    low = lowcut / nyquist_freq\n",
    "    high = highcut / nyquist_freq\n",
    "    b, a = butter(order, [low, high], btype='band', analog=False)\n",
    "    return b, a\n",
    "\n",
    "def bandpass_filter(data, lowcut, highcut, fs, order=5):\n",
    "    b, a = butter_bandpass(lowcut, highcut, fs, order=order)\n",
    "    filtered_data = filtfilt(b, a, data)\n",
    "    return filtered_data\n"
   ]
  },
  {
   "cell_type": "code",
   "execution_count": 37,
   "metadata": {},
   "outputs": [],
   "source": [
    "def calculate_heartRate(record,fs):\n",
    "    ecg_signal = record[:,0]\n",
    "    # Process ECG signal to detect R-peaks\n",
    "    rpeaks = ecg.engzee_segmenter(ecg_signal, sampling_rate=500)[0]\n",
    "    # Calculate RR intervals (in seconds)\n",
    "    rr_intervals = np.diff(rpeaks) / fs  # Sampling rate is 500 Hz\n",
    "    # Calculate HRV metrics\n",
    "    # sdnn = np.std(rr_intervals)  # Standard deviation of NN intervals\n",
    "    # rmssd = np.sqrt(np.mean(np.diff(rr_intervals) ** 2))  # Root mean square of successive differences\n",
    "    heart_rate = 60 * len(rr_intervals) / np.sum(rr_intervals)\n",
    "\n",
    "    # Print HRV metrics\n",
    "    print(\"Heart rate:\", heart_rate)\n",
    "    # Print HRV metrics\n",
    "    # print(\"SDNN:\", sdnn)\n",
    "    # print(\"RMSSD:\", rmssd)"
   ]
  },
  {
   "cell_type": "code",
   "execution_count": null,
   "metadata": {},
   "outputs": [],
   "source": []
  },
  {
   "cell_type": "code",
   "execution_count": null,
   "metadata": {},
   "outputs": [],
   "source": []
  },
  {
   "cell_type": "code",
   "execution_count": null,
   "metadata": {},
   "outputs": [],
   "source": []
  },
  {
   "cell_type": "code",
   "execution_count": null,
   "metadata": {},
   "outputs": [],
   "source": []
  },
  {
   "cell_type": "code",
   "execution_count": null,
   "metadata": {},
   "outputs": [],
   "source": []
  },
  {
   "cell_type": "code",
   "execution_count": null,
   "metadata": {},
   "outputs": [],
   "source": []
  },
  {
   "cell_type": "code",
   "execution_count": null,
   "metadata": {},
   "outputs": [],
   "source": []
  },
  {
   "cell_type": "code",
   "execution_count": 38,
   "metadata": {},
   "outputs": [
    {
     "name": "stdout",
     "output_type": "stream",
     "text": [
      "Heart rate: 117.13665943600867\n",
      "Heart rate: 51.685946345065226\n",
      "Heart rate: 53.309640159928925\n",
      "Heart rate: 162.16216216216222\n",
      "Heart rate: 56.61712668082095\n",
      "Heart rate: 97.93919608243216\n",
      "Heart rate: 63.35797254487857\n",
      "Heart rate: 58.50487540628385\n"
     ]
    }
   ],
   "source": [
    "\n",
    "count = 0\n",
    "record = None\n",
    "# Initialize an empty DataFrame to hold the final result\n",
    "final_df = None\n",
    "# Loop through the first-level directories\n",
    "for dir1 in os.listdir(dataset_path):\n",
    "    dir1_path = os.path.join(dataset_path, dir1)\n",
    "    \n",
    "    # Loop through the subdirectories\n",
    "    for dir2 in os.listdir(dir1_path):\n",
    "        dir2_path = os.path.join(dir1_path, dir2)\n",
    "\n",
    "        # Loop through the ECG records\n",
    "        for file_name in os.listdir(dir2_path):\n",
    "            if file_name.endswith('.mat'):\n",
    "                file_path = os.path.join(dir2_path, file_name[:-4])\n",
    "                count = count + 1\n",
    "                if count < 9:\n",
    "                    record = wfdb.rdrecord(file_path)\n",
    "                    # print(record.__dict__)\n",
    "                    # visualize_data(record.p_signal, \"plot\")\n",
    "                    # Initialize filtered_p_signal array\n",
    "                    filtered_p_signal = np.zeros_like(record.p_signal)\n",
    "\n",
    "                    # Apply band-pass filter to each lead separately\n",
    "                    for lead in range(12):\n",
    "                        filtered_signal = bandpass_filter(record.p_signal[:, lead], lowcut, highcut, record.fs)\n",
    "                        filtered_p_signal[:, lead] = filtered_signal\n",
    "\n",
    "                    # visualize_data(filtered_p_signal, \"Normailzed\")\n",
    "                    # calculate_heartRate(filtered_p_signal,record.fs)\n",
    "                else:\n",
    "                    break\n",
    "        # # Optionally, save the final DataFrame to a CSV file\n",
    "        # final_df.to_csv()\n",
    "        # final_df.drop(final_df.index, inplace=True)\n",
    "        # final_df=None\n",
    "\n",
    "\n"
   ]
  },
  {
   "cell_type": "code",
   "execution_count": null,
   "metadata": {},
   "outputs": [],
   "source": []
  },
  {
   "cell_type": "markdown",
   "metadata": {},
   "source": [
    "## The Block to have commented out code:"
   ]
  },
  {
   "cell_type": "markdown",
   "metadata": {},
   "source": [
    "# _, singular_values, _ = np.linalg.svd(record.p_signal)\n",
    "    # print(np.count_nonzero(singular_values))\n",
    "    # print(record.p_signal.T.shape)\n",
    "    # print(np.linalg.matrix_rank(record.p_signal.T))\n",
    "    \n",
    "    # max(rank) = min(row, coulmns)\n",
    "    \n",
    "    # _, singular_values, _ = np.linalg.svd(record.p_signal.T)\n",
    "    # print(np.count_nonzero(singular_values))\n",
    "    \n",
    "    \n",
    "    \n",
    "    #Printing the data set attribute p_signal to get the idea of the signal of ecg\n",
    "    # print(record.record_name)\n",
    "    # print(record.p_signal.shape)\n",
    "    # print(type(record.p_signal))\n",
    "    # print(np.sum(np.isnan(record.p_signal) | (record.p_signal == None)))\n",
    "    # print(record.__dict__)\n",
    "    # wfdb.plot_wfdb(record)\n",
    "# visualize_ecg(dataset_path) \n"
   ]
  }
 ],
 "metadata": {
  "kernelspec": {
   "display_name": "venv",
   "language": "python",
   "name": "python3"
  },
  "language_info": {
   "codemirror_mode": {
    "name": "ipython",
    "version": 3
   },
   "file_extension": ".py",
   "mimetype": "text/x-python",
   "name": "python",
   "nbconvert_exporter": "python",
   "pygments_lexer": "ipython3",
   "version": "3.11.8"
  }
 },
 "nbformat": 4,
 "nbformat_minor": 2
}
